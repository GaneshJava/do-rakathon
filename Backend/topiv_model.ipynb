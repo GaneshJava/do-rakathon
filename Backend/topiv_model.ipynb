{
 "cells": [
  {
   "cell_type": "code",
   "execution_count": 37,
   "metadata": {},
   "outputs": [
    {
     "name": "stdout",
     "output_type": "stream",
     "text": [
      "(0, '0.414*\"rakuten\" + 0.169*\"ADR_KEY\" + 0.168*\"CUST_ID\" + 0.165*\"HHH_KOP\"')\n",
      "(1, '0.332*\"ADR_KEY\" + 0.329*\"fintech\" + 0.085*\"CUST_ID\" + 0.085*\"rakuten\"')\n",
      "(2, '0.394*\"fintech\" + 0.221*\"QWE_QWE\" + 0.218*\"CUST_ID\" + 0.056*\"ADR_KEY\"')\n"
     ]
    }
   ],
   "source": [
    "import gensim\n",
    "from gensim import corpora\n",
    "\n",
    "# Your list of company description text (replace with real data)\n",
    "documents = [\n",
    "    ['CUST_ID', 'fintech'],\n",
    "    ['ADR_KEY', 'fintech'],\n",
    "    ['QWE_QWE', 'fintech'],\n",
    "    ['CUST_ID', 'rakuten'],\n",
    "    ['ADR_KEY', 'rakuten'],\n",
    "    ['HHH_KOP', 'rakuten']\n",
    "]\n",
    "\n",
    "# Create a dictionary from the tokenized documents\n",
    "dictionary = corpora.Dictionary(documents)\n",
    "\n",
    "# Create a Document-Term Matrix (DTM)\n",
    "corpus = [dictionary.doc2bow(doc) for doc in documents]\n",
    "\n",
    "# Train the LDA model\n",
    "lda_model = gensim.models.LdaModel(\n",
    "    corpus,\n",
    "    num_topics=3,  # Adjust the number of topics as needed\n",
    "    id2word=dictionary,\n",
    "    passes=15,  # Number of passes through the corpus\n",
    "    alpha='auto',  # Automatic alpha estimation\n",
    "    random_state=42\n",
    ")\n",
    "\n",
    "# Print the topics\n",
    "topics = lda_model.print_topics(num_words=4)\n",
    "for topic in topics:\n",
    "    print(topic)\n"
   ]
  },
  {
   "cell_type": "code",
   "execution_count": 31,
   "metadata": {},
   "outputs": [
    {
     "name": "stdout",
     "output_type": "stream",
     "text": [
      "Dictionary<3 unique tokens: ['product name', 'description', 'company name']>\n",
      "Domain 1: (0, '0.662*\"product name\" + 0.169*\"company name\" + 0.169*\"description\"')\n",
      "Domain 2: (1, '0.444*\"description\" + 0.443*\"company name\" + 0.113*\"product name\"')\n",
      "Domain 3: (2, '0.336*\"company name\" + 0.335*\"description\" + 0.329*\"product name\"')\n",
      "Column Name: product name => Domain: ABC Inc. specializes in manufacturing products for various industries.\n",
      "Column Name: description => Domain: XYZ Corp provides a wide range of software solutions for businesses.\n",
      "Column Name: company name => Domain: XYZ Corp provides a wide range of software solutions for businesses.\n"
     ]
    }
   ],
   "source": [
    "import gensim\n",
    "from gensim import corpora\n",
    "\n",
    "# Example column names and predefined domains\n",
    "column_names = ['product name', 'description', 'company name']\n",
    "domains = [\n",
    "    'ABC Inc. specializes in manufacturing products for various industries.',\n",
    "    'XYZ Corp provides a wide range of software solutions for businesses.',\n",
    "    'PQR Ltd is a leading provider of innovative technology services.'\n",
    "]\n",
    "\n",
    "# Tokenize and preprocess the column names\n",
    "tokenized_column_names = [name.lower().split('_') for name in column_names]\n",
    "\n",
    "# Create a dictionary from the tokenized column names\n",
    "dictionary = corpora.Dictionary(tokenized_column_names)\n",
    "print(dictionary)\n",
    "\n",
    "# Create a Document-Term Matrix (DTM)\n",
    "corpus = [dictionary.doc2bow(tokens) for tokens in tokenized_column_names]\n",
    "\n",
    "# Train the LDA model\n",
    "lda_model = gensim.models.LdaModel(\n",
    "    corpus,\n",
    "    num_topics=len(domains),  # Set the number of topics to match the predefined domains\n",
    "    id2word=dictionary,\n",
    "    passes=15,\n",
    "    random_state=42\n",
    ")\n",
    "\n",
    "# Print the topics\n",
    "topics = lda_model.print_topics(num_words=3)\n",
    "for i, topic in enumerate(topics):\n",
    "    print(f\"Domain {i + 1}: {topic}\")\n",
    "\n",
    "# Associate column names with domains\n",
    "for name in column_names:\n",
    "    bow = dictionary.doc2bow(name.lower().split('_'))\n",
    "    topic_distribution = lda_model.get_document_topics(bow)\n",
    "    domain_idx = max(topic_distribution, key=lambda x: x[1])[0]\n",
    "    print(f\"Column Name: {name} => Domain: {domains[domain_idx]}\")\n"
   ]
  }
 ],
 "metadata": {
  "kernelspec": {
   "display_name": "Python 3",
   "language": "python",
   "name": "python3"
  },
  "language_info": {
   "codemirror_mode": {
    "name": "ipython",
    "version": 3
   },
   "file_extension": ".py",
   "mimetype": "text/x-python",
   "name": "python",
   "nbconvert_exporter": "python",
   "pygments_lexer": "ipython3",
   "version": "3.11.0"
  },
  "orig_nbformat": 4
 },
 "nbformat": 4,
 "nbformat_minor": 2
}
